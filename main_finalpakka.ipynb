{
  "nbformat": 4,
  "nbformat_minor": 0,
  "metadata": {
    "accelerator": "GPU",
    "colab": {
      "name": "main_finalpakka.ipynb",
      "version": "0.3.2",
      "provenance": [],
      "collapsed_sections": [],
      "toc_visible": true
    },
    "kernelspec": {
      "name": "python3",
      "display_name": "Python 3"
    },
    "language_info": {
      "codemirror_mode": {
        "name": "ipython",
        "version": 3
      },
      "file_extension": ".py",
      "mimetype": "text/x-python",
      "name": "python",
      "nbconvert_exporter": "python",
      "pygments_lexer": "ipython3",
      "version": "3.6.7"
    },
    "toc": {
      "base_numbering": 1,
      "nav_menu": {},
      "number_sections": true,
      "sideBar": true,
      "skip_h1_title": false,
      "title_cell": "Table of Contents",
      "title_sidebar": "Contents",
      "toc_cell": false,
      "toc_position": {},
      "toc_section_display": true,
      "toc_window_display": false
    }
  },
  "cells": [
    {
      "cell_type": "code",
      "metadata": {
        "colab_type": "code",
        "id": "diXgUBmlE_ks",
        "colab": {}
      },
      "source": [
        "from pathlib import Path\n",
        "import pandas as pd\n",
        "import numpy as np\n",
        "import seaborn as sn\n",
        "import matplotlib.pyplot as plt\n",
        "from keras.applications.vgg16 import VGG16\n",
        "from keras.preprocessing.image import ImageDataGenerator,image\n",
        "from keras.layers import Dense,Dropout\n",
        "from keras.optimizers import Adam\n",
        "from keras.models import Sequential\n",
        "from sklearn.metrics import confusion_matrix\n",
        "from sklearn.metrics import accuracy_score\n"
      ],
      "execution_count": 0,
      "outputs": []
    },
    {
      "cell_type": "code",
      "metadata": {
        "colab_type": "code",
        "id": "YhCGwiDsFIRw",
        "outputId": "2866efca-2697-40fb-c4a0-680fc7c3614e",
        "colab": {
          "base_uri": "https://localhost:8080/",
          "height": 122
        }
      },
      "source": [
        "from google.colab import drive\n",
        "drive.mount('/content/drive')"
      ],
      "execution_count": 2,
      "outputs": [
        {
          "output_type": "stream",
          "text": [
            "Go to this URL in a browser: https://accounts.google.com/o/oauth2/auth?client_id=947318989803-6bn6qk8qdgf4n4g3pfee6491hc0brc4i.apps.googleusercontent.com&redirect_uri=urn%3Aietf%3Awg%3Aoauth%3A2.0%3Aoob&scope=email%20https%3A%2F%2Fwww.googleapis.com%2Fauth%2Fdocs.test%20https%3A%2F%2Fwww.googleapis.com%2Fauth%2Fdrive%20https%3A%2F%2Fwww.googleapis.com%2Fauth%2Fdrive.photos.readonly%20https%3A%2F%2Fwww.googleapis.com%2Fauth%2Fpeopleapi.readonly&response_type=code\n",
            "\n",
            "Enter your authorization code:\n",
            "··········\n",
            "Mounted at /content/drive\n"
          ],
          "name": "stdout"
        }
      ]
    },
    {
      "cell_type": "code",
      "metadata": {
        "colab_type": "code",
        "id": "NIec_NRIE_k8",
        "colab": {}
      },
      "source": [
        "vgg_model=VGG16(include_top=False,weights=\"imagenet\",input_shape=(224,224,3),pooling=\"avg\")"
      ],
      "execution_count": 0,
      "outputs": []
    },
    {
      "cell_type": "code",
      "metadata": {
        "colab_type": "code",
        "id": "2_c2f3hKE_lF",
        "colab": {}
      },
      "source": [
        "for layer in vgg_model.layers[:16]:\n",
        "    layer.trainable=False   "
      ],
      "execution_count": 0,
      "outputs": []
    },
    {
      "cell_type": "code",
      "metadata": {
        "colab_type": "code",
        "id": "Y70O3aXdE_lW",
        "outputId": "255ae256-d2e5-4dac-a672-6a55c38eb628",
        "colab": {
          "base_uri": "https://localhost:8080/",
          "height": 669
        }
      },
      "source": [
        "pd.set_option('max_colwidth', -1)\n",
        "layers = [(layer, layer.name, layer.trainable) for layer in vgg_model.layers]\n",
        "pd.DataFrame(layers)"
      ],
      "execution_count": 139,
      "outputs": [
        {
          "output_type": "execute_result",
          "data": {
            "text/html": [
              "<div>\n",
              "<style scoped>\n",
              "    .dataframe tbody tr th:only-of-type {\n",
              "        vertical-align: middle;\n",
              "    }\n",
              "\n",
              "    .dataframe tbody tr th {\n",
              "        vertical-align: top;\n",
              "    }\n",
              "\n",
              "    .dataframe thead th {\n",
              "        text-align: right;\n",
              "    }\n",
              "</style>\n",
              "<table border=\"1\" class=\"dataframe\">\n",
              "  <thead>\n",
              "    <tr style=\"text-align: right;\">\n",
              "      <th></th>\n",
              "      <th>0</th>\n",
              "      <th>1</th>\n",
              "      <th>2</th>\n",
              "    </tr>\n",
              "  </thead>\n",
              "  <tbody>\n",
              "    <tr>\n",
              "      <th>0</th>\n",
              "      <td>&lt;keras.engine.input_layer.InputLayer object at 0x7fb94f66fe10&gt;</td>\n",
              "      <td>input_4</td>\n",
              "      <td>False</td>\n",
              "    </tr>\n",
              "    <tr>\n",
              "      <th>1</th>\n",
              "      <td>&lt;keras.layers.convolutional.Conv2D object at 0x7fb94f66f630&gt;</td>\n",
              "      <td>block1_conv1</td>\n",
              "      <td>False</td>\n",
              "    </tr>\n",
              "    <tr>\n",
              "      <th>2</th>\n",
              "      <td>&lt;keras.layers.convolutional.Conv2D object at 0x7fb94f6df518&gt;</td>\n",
              "      <td>block1_conv2</td>\n",
              "      <td>False</td>\n",
              "    </tr>\n",
              "    <tr>\n",
              "      <th>3</th>\n",
              "      <td>&lt;keras.layers.pooling.MaxPooling2D object at 0x7fb94f6abef0&gt;</td>\n",
              "      <td>block1_pool</td>\n",
              "      <td>False</td>\n",
              "    </tr>\n",
              "    <tr>\n",
              "      <th>4</th>\n",
              "      <td>&lt;keras.layers.convolutional.Conv2D object at 0x7fb94f6c17b8&gt;</td>\n",
              "      <td>block2_conv1</td>\n",
              "      <td>False</td>\n",
              "    </tr>\n",
              "    <tr>\n",
              "      <th>5</th>\n",
              "      <td>&lt;keras.layers.convolutional.Conv2D object at 0x7fb94f693588&gt;</td>\n",
              "      <td>block2_conv2</td>\n",
              "      <td>False</td>\n",
              "    </tr>\n",
              "    <tr>\n",
              "      <th>6</th>\n",
              "      <td>&lt;keras.layers.pooling.MaxPooling2D object at 0x7fb94f658d68&gt;</td>\n",
              "      <td>block2_pool</td>\n",
              "      <td>False</td>\n",
              "    </tr>\n",
              "    <tr>\n",
              "      <th>7</th>\n",
              "      <td>&lt;keras.layers.convolutional.Conv2D object at 0x7fb94f658d30&gt;</td>\n",
              "      <td>block3_conv1</td>\n",
              "      <td>False</td>\n",
              "    </tr>\n",
              "    <tr>\n",
              "      <th>8</th>\n",
              "      <td>&lt;keras.layers.convolutional.Conv2D object at 0x7fb94f603400&gt;</td>\n",
              "      <td>block3_conv2</td>\n",
              "      <td>False</td>\n",
              "    </tr>\n",
              "    <tr>\n",
              "      <th>9</th>\n",
              "      <td>&lt;keras.layers.convolutional.Conv2D object at 0x7fb94f603c88&gt;</td>\n",
              "      <td>block3_conv3</td>\n",
              "      <td>False</td>\n",
              "    </tr>\n",
              "    <tr>\n",
              "      <th>10</th>\n",
              "      <td>&lt;keras.layers.pooling.MaxPooling2D object at 0x7fb94f5b3c50&gt;</td>\n",
              "      <td>block3_pool</td>\n",
              "      <td>False</td>\n",
              "    </tr>\n",
              "    <tr>\n",
              "      <th>11</th>\n",
              "      <td>&lt;keras.layers.convolutional.Conv2D object at 0x7fb94f5b32b0&gt;</td>\n",
              "      <td>block4_conv1</td>\n",
              "      <td>False</td>\n",
              "    </tr>\n",
              "    <tr>\n",
              "      <th>12</th>\n",
              "      <td>&lt;keras.layers.convolutional.Conv2D object at 0x7fb94f5de7b8&gt;</td>\n",
              "      <td>block4_conv2</td>\n",
              "      <td>False</td>\n",
              "    </tr>\n",
              "    <tr>\n",
              "      <th>13</th>\n",
              "      <td>&lt;keras.layers.convolutional.Conv2D object at 0x7fb94f576a58&gt;</td>\n",
              "      <td>block4_conv3</td>\n",
              "      <td>False</td>\n",
              "    </tr>\n",
              "    <tr>\n",
              "      <th>14</th>\n",
              "      <td>&lt;keras.layers.pooling.MaxPooling2D object at 0x7fb94f58b630&gt;</td>\n",
              "      <td>block4_pool</td>\n",
              "      <td>False</td>\n",
              "    </tr>\n",
              "    <tr>\n",
              "      <th>15</th>\n",
              "      <td>&lt;keras.layers.convolutional.Conv2D object at 0x7fb94f58b518&gt;</td>\n",
              "      <td>block5_conv1</td>\n",
              "      <td>False</td>\n",
              "    </tr>\n",
              "    <tr>\n",
              "      <th>16</th>\n",
              "      <td>&lt;keras.layers.convolutional.Conv2D object at 0x7fb94f53bba8&gt;</td>\n",
              "      <td>block5_conv2</td>\n",
              "      <td>True</td>\n",
              "    </tr>\n",
              "    <tr>\n",
              "      <th>17</th>\n",
              "      <td>&lt;keras.layers.convolutional.Conv2D object at 0x7fb94f552dd8&gt;</td>\n",
              "      <td>block5_conv3</td>\n",
              "      <td>True</td>\n",
              "    </tr>\n",
              "    <tr>\n",
              "      <th>18</th>\n",
              "      <td>&lt;keras.layers.pooling.MaxPooling2D object at 0x7fb94f4e6a90&gt;</td>\n",
              "      <td>block5_pool</td>\n",
              "      <td>True</td>\n",
              "    </tr>\n",
              "    <tr>\n",
              "      <th>19</th>\n",
              "      <td>&lt;keras.layers.pooling.GlobalAveragePooling2D object at 0x7fb94f4e6a58&gt;</td>\n",
              "      <td>global_average_pooling2d_4</td>\n",
              "      <td>True</td>\n",
              "    </tr>\n",
              "  </tbody>\n",
              "</table>\n",
              "</div>"
            ],
            "text/plain": [
              "                                                                         0  ...      2\n",
              "0   <keras.engine.input_layer.InputLayer object at 0x7fb94f66fe10>          ...  False\n",
              "1   <keras.layers.convolutional.Conv2D object at 0x7fb94f66f630>            ...  False\n",
              "2   <keras.layers.convolutional.Conv2D object at 0x7fb94f6df518>            ...  False\n",
              "3   <keras.layers.pooling.MaxPooling2D object at 0x7fb94f6abef0>            ...  False\n",
              "4   <keras.layers.convolutional.Conv2D object at 0x7fb94f6c17b8>            ...  False\n",
              "5   <keras.layers.convolutional.Conv2D object at 0x7fb94f693588>            ...  False\n",
              "6   <keras.layers.pooling.MaxPooling2D object at 0x7fb94f658d68>            ...  False\n",
              "7   <keras.layers.convolutional.Conv2D object at 0x7fb94f658d30>            ...  False\n",
              "8   <keras.layers.convolutional.Conv2D object at 0x7fb94f603400>            ...  False\n",
              "9   <keras.layers.convolutional.Conv2D object at 0x7fb94f603c88>            ...  False\n",
              "10  <keras.layers.pooling.MaxPooling2D object at 0x7fb94f5b3c50>            ...  False\n",
              "11  <keras.layers.convolutional.Conv2D object at 0x7fb94f5b32b0>            ...  False\n",
              "12  <keras.layers.convolutional.Conv2D object at 0x7fb94f5de7b8>            ...  False\n",
              "13  <keras.layers.convolutional.Conv2D object at 0x7fb94f576a58>            ...  False\n",
              "14  <keras.layers.pooling.MaxPooling2D object at 0x7fb94f58b630>            ...  False\n",
              "15  <keras.layers.convolutional.Conv2D object at 0x7fb94f58b518>            ...  False\n",
              "16  <keras.layers.convolutional.Conv2D object at 0x7fb94f53bba8>            ...  True \n",
              "17  <keras.layers.convolutional.Conv2D object at 0x7fb94f552dd8>            ...  True \n",
              "18  <keras.layers.pooling.MaxPooling2D object at 0x7fb94f4e6a90>            ...  True \n",
              "19  <keras.layers.pooling.GlobalAveragePooling2D object at 0x7fb94f4e6a58>  ...  True \n",
              "\n",
              "[20 rows x 3 columns]"
            ]
          },
          "metadata": {
            "tags": []
          },
          "execution_count": 139
        }
      ]
    },
    {
      "cell_type": "code",
      "metadata": {
        "colab_type": "code",
        "id": "suXW1IymE_ld",
        "colab": {}
      },
      "source": [
        "model=Sequential()\n",
        "model.add(vgg_model)\n",
        "model.add(Dropout(0.5))\n",
        "model.add(Dense(426))\n",
        "model.add(Dense(10,activation=\"softmax\"))"
      ],
      "execution_count": 0,
      "outputs": []
    },
    {
      "cell_type": "code",
      "metadata": {
        "colab_type": "code",
        "id": "7aAhQQxQE_lm",
        "outputId": "c299be37-f528-4c17-bb52-ca9bd321b84f",
        "scrolled": true,
        "colab": {
          "base_uri": "https://localhost:8080/",
          "height": 272
        }
      },
      "source": [
        "model.summary()"
      ],
      "execution_count": 141,
      "outputs": [
        {
          "output_type": "stream",
          "text": [
            "_________________________________________________________________\n",
            "Layer (type)                 Output Shape              Param #   \n",
            "=================================================================\n",
            "vgg16 (Model)                (None, 512)               14714688  \n",
            "_________________________________________________________________\n",
            "dropout_4 (Dropout)          (None, 512)               0         \n",
            "_________________________________________________________________\n",
            "dense_7 (Dense)              (None, 426)               218538    \n",
            "_________________________________________________________________\n",
            "dense_8 (Dense)              (None, 10)                4270      \n",
            "=================================================================\n",
            "Total params: 14,937,496\n",
            "Trainable params: 4,942,424\n",
            "Non-trainable params: 9,995,072\n",
            "_________________________________________________________________\n"
          ],
          "name": "stdout"
        }
      ]
    },
    {
      "cell_type": "code",
      "metadata": {
        "colab_type": "code",
        "id": "DhXrE1slE_lu",
        "colab": {}
      },
      "source": [
        "model.compile(optimizer=Adam(lr=1e-5),loss=\"categorical_crossentropy\",metrics=[\"accuracy\"])"
      ],
      "execution_count": 0,
      "outputs": []
    },
    {
      "cell_type": "code",
      "metadata": {
        "colab_type": "code",
        "id": "3UDAWaIlE_l0",
        "colab": {}
      },
      "source": [
        "train_dir=Path(\"/content/drive/My Drive/train set\")\n",
        "BATCH_SIZE=64\n",
        "val_dir=Path(\"/content/drive/My Drive/val set\")"
      ],
      "execution_count": 0,
      "outputs": []
    },
    {
      "cell_type": "code",
      "metadata": {
        "colab_type": "code",
        "id": "lmcY8Ut8E_l5",
        "outputId": "0fea9ec0-a157-4bd8-bcc3-93f3a808936b",
        "colab": {
          "base_uri": "https://localhost:8080/",
          "height": 51
        }
      },
      "source": [
        "train_datagen=ImageDataGenerator(\n",
        "    rescale=1./255\n",
        ")\n",
        "\n",
        "val_datagen=ImageDataGenerator(\n",
        "    rescale=1./255 \n",
        ")\n",
        "\n",
        "train_gen=train_datagen.flow_from_directory(\n",
        "    train_dir,\n",
        "    target_size=(224,224),\n",
        "    batch_size=BATCH_SIZE,\n",
        "    class_mode=\"categorical\",\n",
        "    subset=None,\n",
        "    shuffle=True,\n",
        "    seed=22\n",
        ")\n",
        "\n",
        "val_gen=val_datagen.flow_from_directory(\n",
        "    val_dir,\n",
        "    target_size=(224,224),\n",
        "    batch_size=10,\n",
        "    class_mode=\"categorical\",\n",
        "    subset=None,\n",
        "    shuffle=True,\n",
        "    seed=22\n",
        ")"
      ],
      "execution_count": 156,
      "outputs": [
        {
          "output_type": "stream",
          "text": [
            "Found 4823 images belonging to 10 classes.\n",
            "Found 100 images belonging to 10 classes.\n"
          ],
          "name": "stdout"
        }
      ]
    },
    {
      "cell_type": "code",
      "metadata": {
        "id": "-Z7CVHxxN-g3",
        "colab_type": "code",
        "colab": {}
      },
      "source": [
        "model.load_weights(\"/content/2ndbest.h5\")"
      ],
      "execution_count": 0,
      "outputs": []
    },
    {
      "cell_type": "markdown",
      "metadata": {
        "id": "gTc8QdmCSSbK",
        "colab_type": "text"
      },
      "source": [
        ""
      ]
    },
    {
      "cell_type": "code",
      "metadata": {
        "colab_type": "code",
        "id": "aiWqIhNpE_mC",
        "outputId": "b3354822-3530-4769-b7ad-47b4b15da22d",
        "colab": {
          "base_uri": "https://localhost:8080/",
          "height": 71
        }
      },
      "source": [
        "hist=model.fit_generator(\n",
        "    train_gen,\n",
        "    steps_per_epoch=train_gen.n/BATCH_SIZE,\n",
        "    epochs=1,\n",
        "    validation_data=val_gen,\n",
        "    validation_steps=val_gen.n/10,\n",
        "    verbose=1\n",
        ")"
      ],
      "execution_count": 168,
      "outputs": [
        {
          "output_type": "stream",
          "text": [
            "Epoch 1/1\n",
            "76/75 [==============================] - 46s 599ms/step - loss: 0.4321 - acc: 0.8474 - val_loss: 1.1385 - val_acc: 0.6400\n"
          ],
          "name": "stdout"
        }
      ]
    },
    {
      "cell_type": "code",
      "metadata": {
        "id": "H1dZbXnrVZYO",
        "colab_type": "code",
        "colab": {}
      },
      "source": [
        ""
      ],
      "execution_count": 0,
      "outputs": []
    },
    {
      "cell_type": "markdown",
      "metadata": {
        "colab_type": "text",
        "id": "HrJe1i5yeOvO"
      },
      "source": [
        "## Predictions"
      ]
    },
    {
      "cell_type": "code",
      "metadata": {
        "colab_type": "code",
        "id": "HkHkFyAwRKC0",
        "colab": {}
      },
      "source": [
        "model.save_weights(\"2ndbest.h5\")"
      ],
      "execution_count": 0,
      "outputs": []
    },
    {
      "cell_type": "code",
      "metadata": {
        "id": "IZ5eIzEhEz-6",
        "colab_type": "code",
        "colab": {}
      },
      "source": [
        "test_path=Path(\"/content/drive/My Drive/test set\")"
      ],
      "execution_count": 0,
      "outputs": []
    },
    {
      "cell_type": "code",
      "metadata": {
        "id": "hAmOxXE9Ez_G",
        "colab_type": "code",
        "colab": {}
      },
      "source": [
        "test_datagen=ImageDataGenerator(\n",
        "     rescale=1./255\n",
        ")"
      ],
      "execution_count": 0,
      "outputs": []
    },
    {
      "cell_type": "code",
      "metadata": {
        "id": "wpnhRUGzEz_Q",
        "colab_type": "code",
        "colab": {
          "base_uri": "https://localhost:8080/",
          "height": 34
        },
        "outputId": "09a375f4-7111-42eb-c669-43beb455e573"
      },
      "source": [
        "test_generator=test_datagen.flow_from_directory(\n",
        "    directory=test_path,\n",
        "    target_size=(224, 224),\n",
        "    color_mode=\"rgb\",\n",
        "    batch_size=1,\n",
        "    class_mode=None, #return batches of images for prediction\n",
        "    shuffle=False \n",
        ")\n"
      ],
      "execution_count": 179,
      "outputs": [
        {
          "output_type": "stream",
          "text": [
            "Found 100 images belonging to 10 classes.\n"
          ],
          "name": "stdout"
        }
      ]
    },
    {
      "cell_type": "code",
      "metadata": {
        "id": "SDRcaXe4Ez_b",
        "colab_type": "code",
        "colab": {
          "base_uri": "https://localhost:8080/",
          "height": 34
        },
        "outputId": "35d1b1ab-1ec5-49dd-f815-522bae40db6a"
      },
      "source": [
        "model.evaluate_generator(\n",
        "     generator=val_gen,\n",
        "     steps=val_gen.n/1\n",
        ")"
      ],
      "execution_count": 180,
      "outputs": [
        {
          "output_type": "execute_result",
          "data": {
            "text/plain": [
              "[1.0662350642681122, 0.6030000045895576]"
            ]
          },
          "metadata": {
            "tags": []
          },
          "execution_count": 180
        }
      ]
    },
    {
      "cell_type": "code",
      "metadata": {
        "id": "CLEe4NkEEz_s",
        "colab_type": "code",
        "colab": {
          "base_uri": "https://localhost:8080/",
          "height": 34
        },
        "outputId": "9c3c3c05-48a2-41a1-c284-b98c3d581007"
      },
      "source": [
        "test_generator.reset()\n",
        "pred=model.predict_generator(\n",
        "    test_generator,\n",
        "    steps=test_generator.n//test_generator.batch_size,\n",
        "    verbose=1\n",
        "    )"
      ],
      "execution_count": 181,
      "outputs": [
        {
          "output_type": "stream",
          "text": [
            "100/100 [==============================] - 2s 23ms/step\n"
          ],
          "name": "stdout"
        }
      ]
    },
    {
      "cell_type": "code",
      "metadata": {
        "id": "j1PPC-QDE0AP",
        "colab_type": "code",
        "colab": {}
      },
      "source": [
        "#prediction\n",
        "indices=np.argmax(pred,axis=1)\n",
        "\n",
        "label2index=test_generator.class_indices \n",
        "index2label={v:k for k,v in label2index.items()}\n",
        "\n",
        "label_pred=[index2label[i] for i in indices]"
      ],
      "execution_count": 0,
      "outputs": []
    },
    {
      "cell_type": "code",
      "metadata": {
        "id": "3U1agVZ3E0AY",
        "colab_type": "code",
        "colab": {}
      },
      "source": [
        "#true labels\n",
        "label_index=test_generator.classes\n",
        "true_label=[index2label[i] for i in label_index]"
      ],
      "execution_count": 0,
      "outputs": []
    },
    {
      "cell_type": "code",
      "metadata": {
        "id": "gz_-y9_sE0Am",
        "colab_type": "code",
        "colab": {}
      },
      "source": [
        "#confusion matrix\n",
        "mat=confusion_matrix(true_label,label_pred)\n",
        "acc=accuracy_score(true_label,label_pred)"
      ],
      "execution_count": 0,
      "outputs": []
    },
    {
      "cell_type": "code",
      "metadata": {
        "id": "8V6tj_XRlzdv",
        "colab_type": "code",
        "colab": {
          "base_uri": "https://localhost:8080/",
          "height": 459
        },
        "outputId": "3adff081-c309-4a60-c58d-f4440e21e248"
      },
      "source": [
        "#plot confusion matrix\n",
        "df=pd.DataFrame(mat,index=list(test_generator.class_indices),columns=list(test_generator.class_indices))\n",
        "df.index.name = 'Actual'\n",
        "df.columns.name = 'Predicted'\n",
        "plt.figure(figsize=(10,6))\n",
        "sn.set(font_scale=1.4)\n",
        "sn.heatmap(df,annot=True,cmap=\"YlGnBu\",linewidths=.5)\n",
        "\n",
        "plt.show()"
      ],
      "execution_count": 236,
      "outputs": [
        {
          "output_type": "display_data",
          "data": {
            "image/png": "[encoded data removed]",
            "text/plain": [
              "<Figure size 720x432 with 2 Axes>"
            ]
          },
          "metadata": {
            "tags": []
          }
        }
      ]
    },
    {
      "cell_type": "code",
      "metadata": {
        "id": "u_1U0FudnjOm",
        "colab_type": "code",
        "colab": {}
      },
      "source": [
        ""
      ],
      "execution_count": 0,
      "outputs": []
    }
  ]
}