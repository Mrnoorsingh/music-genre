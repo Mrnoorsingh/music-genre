{
 "cells": [
  {
   "cell_type": "code",
   "execution_count": 1,
   "metadata": {},
   "outputs": [],
   "source": [
    "import random\n",
    "import numpy as np\n",
    "import librosa"
   ]
  },
  {
   "cell_type": "code",
   "execution_count": 2,
   "metadata": {},
   "outputs": [],
   "source": [
    "def timestretch(y):\n",
    "    rate=random.uniform(0.1,4)\n",
    "    y_new=librosa.effects.time_stretch(y,rate=rate)\n",
    "    return y_new\n",
    "\n",
    "def pitch_shift(y):\n",
    "    shift=random.uniform(-5,5)\n",
    "    y_new=librosa.effects.pitch_shift(y,sr=22050,n_steps=shift)\n",
    "    return y_new\n",
    "    \n",
    "    \n",
    "def random_noise(y):\n",
    "    noise = np.random.normal(0,1,y.shape[0])\n",
    "    noise=noise/100\n",
    "    noisy_audio=y+noise\n",
    "    return noisy_audio"
   ]
  }
 ],
 "metadata": {
  "kernelspec": {
   "display_name": "Python 3",
   "language": "python",
   "name": "python3"
  },
  "language_info": {
   "codemirror_mode": {
    "name": "ipython",
    "version": 3
   },
   "file_extension": ".py",
   "mimetype": "text/x-python",
   "name": "python",
   "nbconvert_exporter": "python",
   "pygments_lexer": "ipython3",
   "version": "3.6.7"
  },
  "toc": {
   "base_numbering": 1,
   "nav_menu": {},
   "number_sections": true,
   "sideBar": true,
   "skip_h1_title": false,
   "title_cell": "Table of Contents",
   "title_sidebar": "Contents",
   "toc_cell": false,
   "toc_position": {},
   "toc_section_display": true,
   "toc_window_display": false
  }
 },
 "nbformat": 4,
 "nbformat_minor": 2
}
