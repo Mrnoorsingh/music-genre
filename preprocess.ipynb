{
 "cells": [
  {
   "cell_type": "code",
   "execution_count": 1,
   "metadata": {},
   "outputs": [],
   "source": [
    "from pathlib import Path\n",
    "import pandas as pd\n",
    "import librosa\n",
    "import librosa.display\n",
    "import matplotlib.pyplot as plt\n",
    "import os,random\n",
    "import numpy as np\n",
    "import augmentation\n",
    "import collections"
   ]
  },
  {
   "cell_type": "code",
   "execution_count": 2,
   "metadata": {},
   "outputs": [],
   "source": [
    "path=Path(\"genres\")\n",
    "genre_class=[]\n",
    "audio_data=[]\n",
    "cat_2_num={}\n",
    "numeric_category=-1\n",
    "\n",
    "for folder in path.glob(\"*\"):\n",
    "    numeric_category+=1\n",
    "    category=str(folder).split(\"/\")[-1]\n",
    "    cat_2_num[category]=numeric_category\n",
    "\n",
    "    for file in folder.glob(\"*.au\"):\n",
    "        data=str(file).split(\"/\")[-1]\n",
    "        audio_data.append(data)\n",
    "        genre_class.append(cat_2_num[category])\n",
    "\n",
    "#num_2_cat={value:key for key,value in cat_2_num.items()}        "
   ]
  },
  {
   "cell_type": "code",
   "execution_count": 3,
   "metadata": {},
   "outputs": [],
   "source": [
    "#split datset\n",
    "zip_list=list(zip(audio_data,genre_class))\n",
    "random.seed(22)\n",
    "random.shuffle(zip_list)\n",
    "\n",
    "train_set=zip_list[:int(0.8*(len(zip_list)))]\n",
    "test_set=zip_list[int(0.8*(len(zip_list))):int(0.9*(len(zip_list)))]\n",
    "val_set=zip_list[int(0.9*(len(zip_list))):]\n"
   ]
  },
  {
   "cell_type": "code",
   "execution_count": null,
   "metadata": {},
   "outputs": [],
   "source": [
    "#save training set images into the target directory\n",
    "for clip in train_set:\n",
    "    folder_name=clip[0].split(\".\")[0]\n",
    "    file_path=path/folder_name/clip[0]\n",
    "    audio_file,sr=librosa.load(file_path)#load file as time series in numpy array.sampling rate=22050\n",
    "    file_name=os.path.splitext(clip[0])\n",
    "    \n",
    "\n",
    "    audio_file=augmentation.augmentation(audio_file)\n",
    "    mel=list(map(librosa.feature.melspectrogram,audio_file))\n",
    "    \n",
    "    #save melspectrograms in target folders\n",
    "    for i in range(len(mel)):\n",
    "        librosa.display.specshow(librosa.power_to_db(mel[i],ref=np.max),y_axis=\"off\",x_axis=\"off\")#plot melspectrogram\n",
    "        image_name=os.path.splitext(clip[0])[0]\n",
    "        dir_path=Path(\"val set\")/folder_name\n",
    "        dir_path.mkdir(parents=True,exist_ok=True)\n",
    "        plt.axis(\"off\")\n",
    "        #plt.gca().xaxis.set_major_locator(plt.NullLocator())\n",
    "        #plt.gca().yaxis.set_major_locator(plt.NullLocator())\n",
    "        plt.savefig(dir_path/(image_name+str(i)+\".jpg\"),bbox_inches='tight',pad_inches = 0)\n",
    "        plt.close()\n",
    "    "
   ]
  },
  {
   "cell_type": "code",
   "execution_count": 4,
   "metadata": {},
   "outputs": [],
   "source": [
    "def creat_images(data,folder)\n",
    "    #save validation and testing data images\n",
    "    for clip in test_set:\n",
    "        folder_name=clip[0].split(\".\")[0]\n",
    "        file_path=path/folder_name/clip[0]\n",
    "        audio_file,sr=librosa.load(file_path)#load file as time series in numpy array.sampling rate=22050\n",
    "        file_name=os.path.splitext(clip[0])\n",
    "\n",
    "        mel=librosa.feature.melspectrogram(audio_file)\n",
    "\n",
    "        librosa.display.specshow(librosa.power_to_db(mel,ref=np.max),y_axis=\"off\",x_axis=\"off\")#plot melspectrogram\n",
    "        image_name=os.path.splitext(clip[0])[0]\n",
    "        dir_path=Path(folder)/folder_name\n",
    "        dir_path.mkdir(parents=True,exist_ok=True)\n",
    "        plt.axis(\"off\")\n",
    "        #plt.gca().xaxis.set_major_locator(plt.NullLocator())\n",
    "        #plt.gca().yaxis.set_major_locator(plt.NullLocator())\n",
    "        plt.savefig(dir_path/(image_name+\".jpg\"),bbox_inches='tight',pad_inches = 0)\n",
    "        plt.close()"
   ]
  },
  {
   "cell_type": "code",
   "execution_count": null,
   "metadata": {},
   "outputs": [],
   "source": [
    "plot_mel(train_set,\"train set\")\n",
    "plot_mel(val_set, \"val set\")"
   ]
  }
 ],
 "metadata": {
  "kernelspec": {
   "display_name": "Python 3",
   "language": "python",
   "name": "python3"
  },
  "language_info": {
   "codemirror_mode": {
    "name": "ipython",
    "version": 3
   },
   "file_extension": ".py",
   "mimetype": "text/x-python",
   "name": "python",
   "nbconvert_exporter": "python",
   "pygments_lexer": "ipython3",
   "version": "3.6.7"
  },
  "toc": {
   "base_numbering": 1,
   "nav_menu": {},
   "number_sections": true,
   "sideBar": true,
   "skip_h1_title": false,
   "title_cell": "Table of Contents",
   "title_sidebar": "Contents",
   "toc_cell": false,
   "toc_position": {},
   "toc_section_display": true,
   "toc_window_display": false
  }
 },
 "nbformat": 4,
 "nbformat_minor": 2
}
