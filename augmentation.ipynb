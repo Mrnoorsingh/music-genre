{
 "cells": [
  {
   "cell_type": "code",
   "execution_count": 1,
   "metadata": {},
   "outputs": [],
   "source": [
    "import random\n",
    "from transformations import random_noise,pitch_shift,timestretch\n",
    "from pathlib import Path\n",
    "import librosa\n",
    "import numpy as np"
   ]
  },
  {
   "cell_type": "code",
   "execution_count": 21,
   "metadata": {},
   "outputs": [],
   "source": [
    "list_functions=[timestretch,pitch_shift,random_noise]#list of functions"
   ]
  },
  {
   "cell_type": "code",
   "execution_count": 24,
   "metadata": {},
   "outputs": [],
   "source": [
    "def augmentation(audio_wav,overlap=0.3):\n",
    "    '''\n",
    "    splitting 30 second clip into multiple 10 second clips,\n",
    "    augmenting clips using timestretching,pitchshifting and\n",
    "    adding gaussian noise \n",
    "    '''\n",
    "    \n",
    "    audio_shape=audio_wav.shape[0]\n",
    "    size=int(audio_shape*(0.3333))#approx. 10 second clip\n",
    "    step=int(size*(1-overlap))\n",
    "    short_clips = [audio_wav[i : i + size] for i in range(0, audio_shape+step-size, step)]#overlap starts from step\n",
    "\n",
    "    count=0\n",
    "    clips_desired=np.random.choice([1,2,3,4],1,p=[0.4,0.3,0.2,0.1])[0]\n",
    "    while count<clips_desired:\n",
    "        short_clip=random.choice(short_clips)\n",
    "        count+=1\n",
    "        aug_signal=random.choice(list_functions)(short_clip)#invoke function\n",
    "        short_clips.append(aug_signal)\n",
    "\n",
    "        \n",
    "    return short_clips    "
   ]
  },
  {
   "cell_type": "code",
   "execution_count": null,
   "metadata": {},
   "outputs": [],
   "source": [
    "if __name__==\"__main__\" :\n",
    "    path=Path(\"genres\")\n",
    "    x=path/\"jazz\"/\"jazz.00008.au\"\n",
    "    wave,sr=librosa.load(x)\n",
    "    a=augmentation(wave)   "
   ]
  },
  {
   "cell_type": "code",
   "execution_count": null,
   "metadata": {},
   "outputs": [],
   "source": []
  }
 ],
 "metadata": {
  "kernelspec": {
   "display_name": "Python 3",
   "language": "python",
   "name": "python3"
  },
  "language_info": {
   "codemirror_mode": {
    "name": "ipython",
    "version": 3
   },
   "file_extension": ".py",
   "mimetype": "text/x-python",
   "name": "python",
   "nbconvert_exporter": "python",
   "pygments_lexer": "ipython3",
   "version": "3.6.7"
  },
  "toc": {
   "base_numbering": 1,
   "nav_menu": {},
   "number_sections": true,
   "sideBar": true,
   "skip_h1_title": false,
   "title_cell": "Table of Contents",
   "title_sidebar": "Contents",
   "toc_cell": false,
   "toc_position": {},
   "toc_section_display": true,
   "toc_window_display": false
  }
 },
 "nbformat": 4,
 "nbformat_minor": 2
}
