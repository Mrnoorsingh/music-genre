{
 "cells": [
  {
   "cell_type": "code",
   "execution_count": 2,
   "metadata": {
    "colab": {},
    "colab_type": "code",
    "id": "diXgUBmlE_ks"
   },
   "outputs": [],
   "source": [
    "from pathlib import Path\n",
    "import pandas as pd\n",
    "import numpy as np\n",
    "import seaborn as sn\n",
    "import matplotlib.pyplot as plt\n",
    "from keras.applications.vgg16 import VGG16\n",
    "from keras.preprocessing.image import ImageDataGenerator,image\n",
    "from keras.layers import Dense,Dropout\n",
    "from keras.optimizers import Adam\n",
    "from keras.models import Sequential\n",
    "from sklearn.metrics import confusion_matrix,auc,classification_report\n",
    "from sklearn.metrics import accuracy_score\n"
   ]
  },
  {
   "cell_type": "code",
   "execution_count": 3,
   "metadata": {
    "colab": {},
    "colab_type": "code",
    "id": "NIec_NRIE_k8"
   },
   "outputs": [
    {
     "name": "stdout",
     "output_type": "stream",
     "text": [
      "WARNING:tensorflow:From /home/noor/.local/lib/python3.6/site-packages/tensorflow/python/framework/op_def_library.py:263: colocate_with (from tensorflow.python.framework.ops) is deprecated and will be removed in a future version.\n",
      "Instructions for updating:\n",
      "Colocations handled automatically by placer.\n"
     ]
    }
   ],
   "source": [
    "vgg_model=VGG16(include_top=False,weights=\"imagenet\",input_shape=(224,224,3),pooling=\"avg\")"
   ]
  },
  {
   "cell_type": "code",
   "execution_count": 4,
   "metadata": {
    "colab": {},
    "colab_type": "code",
    "id": "2_c2f3hKE_lF"
   },
   "outputs": [],
   "source": [
    "for layer in vgg_model.layers[:16]:\n",
    "    layer.trainable=False   "
   ]
  },
  {
   "cell_type": "code",
   "execution_count": 5,
   "metadata": {
    "colab": {
     "base_uri": "https://localhost:8080/",
     "height": 669
    },
    "colab_type": "code",
    "id": "Y70O3aXdE_lW",
    "outputId": "255ae256-d2e5-4dac-a672-6a55c38eb628"
   },
   "outputs": [
    {
     "data": {
      "text/html": [
       "<div>\n",
       "<style scoped>\n",
       "    .dataframe tbody tr th:only-of-type {\n",
       "        vertical-align: middle;\n",
       "    }\n",
       "\n",
       "    .dataframe tbody tr th {\n",
       "        vertical-align: top;\n",
       "    }\n",
       "\n",
       "    .dataframe thead th {\n",
       "        text-align: right;\n",
       "    }\n",
       "</style>\n",
       "<table border=\"1\" class=\"dataframe\">\n",
       "  <thead>\n",
       "    <tr style=\"text-align: right;\">\n",
       "      <th></th>\n",
       "      <th>0</th>\n",
       "      <th>1</th>\n",
       "      <th>2</th>\n",
       "    </tr>\n",
       "  </thead>\n",
       "  <tbody>\n",
       "    <tr>\n",
       "      <th>0</th>\n",
       "      <td>&lt;keras.engine.input_layer.InputLayer object at 0x7ffac5395b70&gt;</td>\n",
       "      <td>input_1</td>\n",
       "      <td>False</td>\n",
       "    </tr>\n",
       "    <tr>\n",
       "      <th>1</th>\n",
       "      <td>&lt;keras.layers.convolutional.Conv2D object at 0x7ffaa7556dd8&gt;</td>\n",
       "      <td>block1_conv1</td>\n",
       "      <td>False</td>\n",
       "    </tr>\n",
       "    <tr>\n",
       "      <th>2</th>\n",
       "      <td>&lt;keras.layers.convolutional.Conv2D object at 0x7ffaa7556f60&gt;</td>\n",
       "      <td>block1_conv2</td>\n",
       "      <td>False</td>\n",
       "    </tr>\n",
       "    <tr>\n",
       "      <th>3</th>\n",
       "      <td>&lt;keras.layers.pooling.MaxPooling2D object at 0x7ffaa7075080&gt;</td>\n",
       "      <td>block1_pool</td>\n",
       "      <td>False</td>\n",
       "    </tr>\n",
       "    <tr>\n",
       "      <th>4</th>\n",
       "      <td>&lt;keras.layers.convolutional.Conv2D object at 0x7ffaa70757f0&gt;</td>\n",
       "      <td>block2_conv1</td>\n",
       "      <td>False</td>\n",
       "    </tr>\n",
       "    <tr>\n",
       "      <th>5</th>\n",
       "      <td>&lt;keras.layers.convolutional.Conv2D object at 0x7ffaa702d5c0&gt;</td>\n",
       "      <td>block2_conv2</td>\n",
       "      <td>False</td>\n",
       "    </tr>\n",
       "    <tr>\n",
       "      <th>6</th>\n",
       "      <td>&lt;keras.layers.pooling.MaxPooling2D object at 0x7ffaa7048518&gt;</td>\n",
       "      <td>block2_pool</td>\n",
       "      <td>False</td>\n",
       "    </tr>\n",
       "    <tr>\n",
       "      <th>7</th>\n",
       "      <td>&lt;keras.layers.convolutional.Conv2D object at 0x7ffaa7048cc0&gt;</td>\n",
       "      <td>block3_conv1</td>\n",
       "      <td>False</td>\n",
       "    </tr>\n",
       "    <tr>\n",
       "      <th>8</th>\n",
       "      <td>&lt;keras.layers.convolutional.Conv2D object at 0x7ffaa6ff97b8&gt;</td>\n",
       "      <td>block3_conv2</td>\n",
       "      <td>False</td>\n",
       "    </tr>\n",
       "    <tr>\n",
       "      <th>9</th>\n",
       "      <td>&lt;keras.layers.convolutional.Conv2D object at 0x7ffaa6f96a58&gt;</td>\n",
       "      <td>block3_conv3</td>\n",
       "      <td>False</td>\n",
       "    </tr>\n",
       "    <tr>\n",
       "      <th>10</th>\n",
       "      <td>&lt;keras.layers.pooling.MaxPooling2D object at 0x7ffaa6fc5240&gt;</td>\n",
       "      <td>block3_pool</td>\n",
       "      <td>False</td>\n",
       "    </tr>\n",
       "    <tr>\n",
       "      <th>11</th>\n",
       "      <td>&lt;keras.layers.convolutional.Conv2D object at 0x7ffaa6fc57b8&gt;</td>\n",
       "      <td>block4_conv1</td>\n",
       "      <td>False</td>\n",
       "    </tr>\n",
       "    <tr>\n",
       "      <th>12</th>\n",
       "      <td>&lt;keras.layers.convolutional.Conv2D object at 0x7ffaa6f7a438&gt;</td>\n",
       "      <td>block4_conv2</td>\n",
       "      <td>False</td>\n",
       "    </tr>\n",
       "    <tr>\n",
       "      <th>13</th>\n",
       "      <td>&lt;keras.layers.convolutional.Conv2D object at 0x7ffaa6f922e8&gt;</td>\n",
       "      <td>block4_conv3</td>\n",
       "      <td>False</td>\n",
       "    </tr>\n",
       "    <tr>\n",
       "      <th>14</th>\n",
       "      <td>&lt;keras.layers.pooling.MaxPooling2D object at 0x7ffaa6f2eb70&gt;</td>\n",
       "      <td>block4_pool</td>\n",
       "      <td>False</td>\n",
       "    </tr>\n",
       "    <tr>\n",
       "      <th>15</th>\n",
       "      <td>&lt;keras.layers.convolutional.Conv2D object at 0x7ffaa6f2ed30&gt;</td>\n",
       "      <td>block5_conv1</td>\n",
       "      <td>False</td>\n",
       "    </tr>\n",
       "    <tr>\n",
       "      <th>16</th>\n",
       "      <td>&lt;keras.layers.convolutional.Conv2D object at 0x7ffaa6ee0d68&gt;</td>\n",
       "      <td>block5_conv2</td>\n",
       "      <td>True</td>\n",
       "    </tr>\n",
       "    <tr>\n",
       "      <th>17</th>\n",
       "      <td>&lt;keras.layers.convolutional.Conv2D object at 0x7ffaa6f10588&gt;</td>\n",
       "      <td>block5_conv3</td>\n",
       "      <td>True</td>\n",
       "    </tr>\n",
       "    <tr>\n",
       "      <th>18</th>\n",
       "      <td>&lt;keras.layers.pooling.MaxPooling2D object at 0x7ffaa6eabba8&gt;</td>\n",
       "      <td>block5_pool</td>\n",
       "      <td>True</td>\n",
       "    </tr>\n",
       "    <tr>\n",
       "      <th>19</th>\n",
       "      <td>&lt;keras.layers.pooling.GlobalAveragePooling2D object at 0x7ffaa6eabcc0&gt;</td>\n",
       "      <td>global_average_pooling2d_1</td>\n",
       "      <td>True</td>\n",
       "    </tr>\n",
       "  </tbody>\n",
       "</table>\n",
       "</div>"
      ],
      "text/plain": [
       "                                                                         0  \\\n",
       "0   <keras.engine.input_layer.InputLayer object at 0x7ffac5395b70>           \n",
       "1   <keras.layers.convolutional.Conv2D object at 0x7ffaa7556dd8>             \n",
       "2   <keras.layers.convolutional.Conv2D object at 0x7ffaa7556f60>             \n",
       "3   <keras.layers.pooling.MaxPooling2D object at 0x7ffaa7075080>             \n",
       "4   <keras.layers.convolutional.Conv2D object at 0x7ffaa70757f0>             \n",
       "5   <keras.layers.convolutional.Conv2D object at 0x7ffaa702d5c0>             \n",
       "6   <keras.layers.pooling.MaxPooling2D object at 0x7ffaa7048518>             \n",
       "7   <keras.layers.convolutional.Conv2D object at 0x7ffaa7048cc0>             \n",
       "8   <keras.layers.convolutional.Conv2D object at 0x7ffaa6ff97b8>             \n",
       "9   <keras.layers.convolutional.Conv2D object at 0x7ffaa6f96a58>             \n",
       "10  <keras.layers.pooling.MaxPooling2D object at 0x7ffaa6fc5240>             \n",
       "11  <keras.layers.convolutional.Conv2D object at 0x7ffaa6fc57b8>             \n",
       "12  <keras.layers.convolutional.Conv2D object at 0x7ffaa6f7a438>             \n",
       "13  <keras.layers.convolutional.Conv2D object at 0x7ffaa6f922e8>             \n",
       "14  <keras.layers.pooling.MaxPooling2D object at 0x7ffaa6f2eb70>             \n",
       "15  <keras.layers.convolutional.Conv2D object at 0x7ffaa6f2ed30>             \n",
       "16  <keras.layers.convolutional.Conv2D object at 0x7ffaa6ee0d68>             \n",
       "17  <keras.layers.convolutional.Conv2D object at 0x7ffaa6f10588>             \n",
       "18  <keras.layers.pooling.MaxPooling2D object at 0x7ffaa6eabba8>             \n",
       "19  <keras.layers.pooling.GlobalAveragePooling2D object at 0x7ffaa6eabcc0>   \n",
       "\n",
       "                             1      2  \n",
       "0   input_1                     False  \n",
       "1   block1_conv1                False  \n",
       "2   block1_conv2                False  \n",
       "3   block1_pool                 False  \n",
       "4   block2_conv1                False  \n",
       "5   block2_conv2                False  \n",
       "6   block2_pool                 False  \n",
       "7   block3_conv1                False  \n",
       "8   block3_conv2                False  \n",
       "9   block3_conv3                False  \n",
       "10  block3_pool                 False  \n",
       "11  block4_conv1                False  \n",
       "12  block4_conv2                False  \n",
       "13  block4_conv3                False  \n",
       "14  block4_pool                 False  \n",
       "15  block5_conv1                False  \n",
       "16  block5_conv2                True   \n",
       "17  block5_conv3                True   \n",
       "18  block5_pool                 True   \n",
       "19  global_average_pooling2d_1  True   "
      ]
     },
     "execution_count": 5,
     "metadata": {},
     "output_type": "execute_result"
    }
   ],
   "source": [
    "pd.set_option('max_colwidth', -1)\n",
    "layers = [(layer, layer.name, layer.trainable) for layer in vgg_model.layers]\n",
    "pd.DataFrame(layers)"
   ]
  },
  {
   "cell_type": "code",
   "execution_count": 6,
   "metadata": {
    "colab": {},
    "colab_type": "code",
    "id": "suXW1IymE_ld"
   },
   "outputs": [
    {
     "name": "stdout",
     "output_type": "stream",
     "text": [
      "WARNING:tensorflow:From /home/noor/.local/lib/python3.6/site-packages/keras/backend/tensorflow_backend.py:3445: calling dropout (from tensorflow.python.ops.nn_ops) with keep_prob is deprecated and will be removed in a future version.\n",
      "Instructions for updating:\n",
      "Please use `rate` instead of `keep_prob`. Rate should be set to `rate = 1 - keep_prob`.\n"
     ]
    }
   ],
   "source": [
    "model=Sequential()\n",
    "model.add(vgg_model)\n",
    "model.add(Dropout(0.5))\n",
    "model.add(Dense(426))\n",
    "model.add(Dense(10,activation=\"softmax\"))"
   ]
  },
  {
   "cell_type": "code",
   "execution_count": 7,
   "metadata": {
    "colab": {
     "base_uri": "https://localhost:8080/",
     "height": 272
    },
    "colab_type": "code",
    "id": "7aAhQQxQE_lm",
    "outputId": "c299be37-f528-4c17-bb52-ca9bd321b84f",
    "scrolled": true
   },
   "outputs": [
    {
     "name": "stdout",
     "output_type": "stream",
     "text": [
      "_________________________________________________________________\n",
      "Layer (type)                 Output Shape              Param #   \n",
      "=================================================================\n",
      "vgg16 (Model)                (None, 512)               14714688  \n",
      "_________________________________________________________________\n",
      "dropout_1 (Dropout)          (None, 512)               0         \n",
      "_________________________________________________________________\n",
      "dense_1 (Dense)              (None, 426)               218538    \n",
      "_________________________________________________________________\n",
      "dense_2 (Dense)              (None, 10)                4270      \n",
      "=================================================================\n",
      "Total params: 14,937,496\n",
      "Trainable params: 4,942,424\n",
      "Non-trainable params: 9,995,072\n",
      "_________________________________________________________________\n"
     ]
    }
   ],
   "source": [
    "model.summary()"
   ]
  },
  {
   "cell_type": "code",
   "execution_count": 8,
   "metadata": {
    "colab": {},
    "colab_type": "code",
    "id": "DhXrE1slE_lu"
   },
   "outputs": [],
   "source": [
    "model.compile(optimizer=Adam(lr=1e-5),loss=\"categorical_crossentropy\",metrics=[\"accuracy\"])"
   ]
  },
  {
   "cell_type": "code",
   "execution_count": 20,
   "metadata": {
    "colab": {},
    "colab_type": "code",
    "id": "3UDAWaIlE_l0"
   },
   "outputs": [],
   "source": [
    "train_dir=Path(\"/content/drive/My Drive/train set\")\n",
    "BATCH_SIZE=64\n",
    "val_dir=Path(\"/content/drive/My Drive/val set\")"
   ]
  },
  {
   "cell_type": "code",
   "execution_count": null,
   "metadata": {
    "colab": {
     "base_uri": "https://localhost:8080/",
     "height": 51
    },
    "colab_type": "code",
    "id": "lmcY8Ut8E_l5",
    "outputId": "0fea9ec0-a157-4bd8-bcc3-93f3a808936b"
   },
   "outputs": [],
   "source": [
    "train_datagen=ImageDataGenerator(\n",
    "    rescale=1./255\n",
    ")\n",
    "\n",
    "val_datagen=ImageDataGenerator(\n",
    "    rescale=1./255 \n",
    ")\n",
    "\n",
    "train_gen=train_datagen.flow_from_directory(\n",
    "    train_dir,\n",
    "    target_size=(224,224),\n",
    "    batch_size=BATCH_SIZE,\n",
    "    class_mode=\"categorical\",\n",
    "    subset=None,\n",
    "    shuffle=True,\n",
    "    seed=22\n",
    ")\n",
    "\n",
    "val_gen=val_datagen.flow_from_directory(\n",
    "    val_dir,\n",
    "    target_size=(224,224),\n",
    "    batch_size=10,\n",
    "    class_mode=\"categorical\",\n",
    "    subset=None,\n",
    "    shuffle=True,\n",
    "    seed=22\n",
    ")"
   ]
  },
  {
   "cell_type": "code",
   "execution_count": 9,
   "metadata": {
    "colab": {},
    "colab_type": "code",
    "id": "-Z7CVHxxN-g3"
   },
   "outputs": [],
   "source": [
    "model.load_weights(\"weight.h5\")"
   ]
  },
  {
   "cell_type": "code",
   "execution_count": null,
   "metadata": {
    "colab": {
     "base_uri": "https://localhost:8080/",
     "height": 71
    },
    "colab_type": "code",
    "id": "aiWqIhNpE_mC",
    "outputId": "b3354822-3530-4769-b7ad-47b4b15da22d"
   },
   "outputs": [],
   "source": [
    "hist=model.fit_generator(\n",
    "    train_gen,\n",
    "    steps_per_epoch=train_gen.n/BATCH_SIZE,\n",
    "    epochs=1,\n",
    "    validation_data=val_gen,\n",
    "    validation_steps=val_gen.n/10,\n",
    "    verbose=1\n",
    ")"
   ]
  },
  {
   "cell_type": "markdown",
   "metadata": {
    "colab_type": "text",
    "id": "HrJe1i5yeOvO"
   },
   "source": [
    "## Predictions"
   ]
  },
  {
   "cell_type": "code",
   "execution_count": 11,
   "metadata": {
    "colab": {},
    "colab_type": "code",
    "id": "IZ5eIzEhEz-6"
   },
   "outputs": [],
   "source": [
    "test_path=Path(\"test set\")"
   ]
  },
  {
   "cell_type": "code",
   "execution_count": 12,
   "metadata": {
    "colab": {},
    "colab_type": "code",
    "id": "hAmOxXE9Ez_G"
   },
   "outputs": [],
   "source": [
    "test_datagen=ImageDataGenerator(\n",
    "     rescale=1./255\n",
    ")"
   ]
  },
  {
   "cell_type": "code",
   "execution_count": 13,
   "metadata": {
    "colab": {
     "base_uri": "https://localhost:8080/",
     "height": 34
    },
    "colab_type": "code",
    "id": "wpnhRUGzEz_Q",
    "outputId": "09a375f4-7111-42eb-c669-43beb455e573"
   },
   "outputs": [
    {
     "name": "stdout",
     "output_type": "stream",
     "text": [
      "Found 100 images belonging to 10 classes.\n"
     ]
    }
   ],
   "source": [
    "test_generator=test_datagen.flow_from_directory(\n",
    "    directory=test_path,\n",
    "    target_size=(224, 224),\n",
    "    color_mode=\"rgb\",\n",
    "    batch_size=1,\n",
    "    class_mode=None, #return batches of images for prediction\n",
    "    shuffle=False \n",
    ")\n"
   ]
  },
  {
   "cell_type": "code",
   "execution_count": null,
   "metadata": {
    "colab": {
     "base_uri": "https://localhost:8080/",
     "height": 34
    },
    "colab_type": "code",
    "id": "SDRcaXe4Ez_b",
    "outputId": "35d1b1ab-1ec5-49dd-f815-522bae40db6a"
   },
   "outputs": [],
   "source": [
    "model.evaluate_generator(\n",
    "     generator=val_gen,\n",
    "     steps=val_gen.n/1\n",
    ")"
   ]
  },
  {
   "cell_type": "code",
   "execution_count": 15,
   "metadata": {
    "colab": {
     "base_uri": "https://localhost:8080/",
     "height": 34
    },
    "colab_type": "code",
    "id": "CLEe4NkEEz_s",
    "outputId": "9c3c3c05-48a2-41a1-c284-b98c3d581007"
   },
   "outputs": [
    {
     "name": "stdout",
     "output_type": "stream",
     "text": [
      "100/100 [==============================] - 77s 768ms/step\n"
     ]
    }
   ],
   "source": [
    "test_generator.reset()\n",
    "pred=model.predict_generator(\n",
    "    test_generator,\n",
    "    steps=test_generator.n//test_generator.batch_size,\n",
    "    verbose=1\n",
    "    )"
   ]
  },
  {
   "cell_type": "code",
   "execution_count": 16,
   "metadata": {
    "colab": {},
    "colab_type": "code",
    "id": "j1PPC-QDE0AP"
   },
   "outputs": [],
   "source": [
    "#prediction\n",
    "indices=np.argmax(pred,axis=1)\n",
    "\n",
    "label2index=test_generator.class_indices \n",
    "index2label={v:k for k,v in label2index.items()}\n",
    "\n",
    "label_pred=[index2label[i] for i in indices]"
   ]
  },
  {
   "cell_type": "code",
   "execution_count": 17,
   "metadata": {
    "colab": {},
    "colab_type": "code",
    "id": "3U1agVZ3E0AY"
   },
   "outputs": [],
   "source": [
    "#true labels\n",
    "label_index=test_generator.classes\n",
    "true_label=[index2label[i] for i in label_index]"
   ]
  },
  {
   "cell_type": "code",
   "execution_count": 18,
   "metadata": {
    "colab": {},
    "colab_type": "code",
    "id": "gz_-y9_sE0Am"
   },
   "outputs": [],
   "source": [
    "#confusion matrix\n",
    "mat=confusion_matrix(true_label,label_pred)"
   ]
  },
  {
   "cell_type": "code",
   "execution_count": 20,
   "metadata": {
    "colab": {
     "base_uri": "https://localhost:8080/",
     "height": 459
    },
    "colab_type": "code",
    "id": "8V6tj_XRlzdv",
    "outputId": "3adff081-c309-4a60-c58d-f4440e21e248"
   },
   "outputs": [
    {
     "data": {
      "image/png": "[encoded data removed]",
      "text/plain": [
       "<Figure size 720x432 with 2 Axes>"
      ]
     },
     "metadata": {},
     "output_type": "display_data"
    }
   ],
   "source": [
    "#plot confusion matrix\n",
    "df=pd.DataFrame(mat,index=list(test_generator.class_indices),columns=list(test_generator.class_indices))\n",
    "plt.figure(figsize=(10,6))\n",
    "sn.set(font_scale=1.4)\n",
    "sn.heatmap(mat,annot=True,linewidths=.5)\n",
    "plt.xlabel('Predicted')\n",
    "plt.ylabel('Actual')\n",
    "plt.show()"
   ]
  },
  {
   "cell_type": "code",
   "execution_count": 29,
   "metadata": {
    "colab": {},
    "colab_type": "code",
    "id": "u_1U0FudnjOm"
   },
   "outputs": [
    {
     "name": "stdout",
     "output_type": "stream",
     "text": [
      "              precision    recall  f1-score   support\n",
      "\n",
      "       blues       0.25      0.33      0.29        15\n",
      "   classical       1.00      0.73      0.84        11\n",
      "     country       1.00      0.11      0.20         9\n",
      "       disco       0.42      0.89      0.57         9\n",
      "      hiphop       0.62      0.89      0.73         9\n",
      "        jazz       0.80      0.25      0.38        16\n",
      "       metal       0.73      0.89      0.80         9\n",
      "         pop       0.60      0.50      0.55         6\n",
      "      reggae       0.38      0.43      0.40         7\n",
      "        rock       0.60      0.67      0.63         9\n",
      "\n",
      "    accuracy                           0.54       100\n",
      "   macro avg       0.64      0.57      0.54       100\n",
      "weighted avg       0.64      0.54      0.52       100\n",
      "\n"
     ]
    }
   ],
   "source": [
    "print (classification_report(true_label,label_pred)) "
   ]
  }
 ],
 "metadata": {
  "accelerator": "GPU",
  "colab": {
   "collapsed_sections": [],
   "name": "main_finalpakka.ipynb",
   "provenance": [],
   "toc_visible": true,
   "version": "0.3.2"
  },
  "kernelspec": {
   "display_name": "Python 3",
   "language": "python",
   "name": "python3"
  },
  "language_info": {
   "codemirror_mode": {
    "name": "ipython",
    "version": 3
   },
   "file_extension": ".py",
   "mimetype": "text/x-python",
   "name": "python",
   "nbconvert_exporter": "python",
   "pygments_lexer": "ipython3",
   "version": "3.6.7"
  },
  "toc": {
   "base_numbering": 1,
   "nav_menu": {},
   "number_sections": true,
   "sideBar": true,
   "skip_h1_title": false,
   "title_cell": "Table of Contents",
   "title_sidebar": "Contents",
   "toc_cell": false,
   "toc_position": {},
   "toc_section_display": true,
   "toc_window_display": false
  }
 },
 "nbformat": 4,
 "nbformat_minor": 1
}
